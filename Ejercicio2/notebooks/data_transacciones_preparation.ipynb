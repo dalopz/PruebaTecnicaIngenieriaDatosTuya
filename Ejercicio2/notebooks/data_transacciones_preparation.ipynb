{
 "cells": [
  {
   "cell_type": "code",
   "execution_count": 1,
   "id": "654b630a",
   "metadata": {},
   "outputs": [],
   "source": [
    "import pandas as pd\n",
    "from pathlib import Path"
   ]
  },
  {
   "cell_type": "code",
   "execution_count": 2,
   "id": "ff4231c9",
   "metadata": {},
   "outputs": [],
   "source": [
    "ruta_base = Path.cwd()\n",
    "ruta_base = ruta_base.parents[1]"
   ]
  },
  {
   "cell_type": "code",
   "execution_count": 6,
   "id": "d01b28bf",
   "metadata": {},
   "outputs": [],
   "source": [
    "ruta_bd = ruta_base / 'Ejercicio2' / 'data' / 'raw' / 'bd.xlsx'\n",
    "transacciones_raw = pd.read_excel(ruta_bd, sheet_name='TRANSACCIONES')"
   ]
  },
  {
   "cell_type": "code",
   "execution_count": 7,
   "id": "6d2266a4",
   "metadata": {},
   "outputs": [
    {
     "data": {
      "text/html": [
       "<div>\n",
       "<style scoped>\n",
       "    .dataframe tbody tr th:only-of-type {\n",
       "        vertical-align: middle;\n",
       "    }\n",
       "\n",
       "    .dataframe tbody tr th {\n",
       "        vertical-align: top;\n",
       "    }\n",
       "\n",
       "    .dataframe thead th {\n",
       "        text-align: right;\n",
       "    }\n",
       "</style>\n",
       "<table border=\"1\" class=\"dataframe\">\n",
       "  <thead>\n",
       "    <tr style=\"text-align: right;\">\n",
       "      <th></th>\n",
       "      <th>IDENTIFICACION</th>\n",
       "      <th>ID_TRANSACCION</th>\n",
       "      <th>FECHA_TRANSACCION</th>\n",
       "      <th>CODIGO_CATEGORIA</th>\n",
       "      <th>ESTADO</th>\n",
       "      <th>VALOR_COMPRA</th>\n",
       "    </tr>\n",
       "  </thead>\n",
       "  <tbody>\n",
       "    <tr>\n",
       "      <th>0</th>\n",
       "      <td>2W3X4Y5Z6A7B8C9D0</td>\n",
       "      <td>5287</td>\n",
       "      <td>2023-01-20 00:00:00</td>\n",
       "      <td>14</td>\n",
       "      <td>Aprobada</td>\n",
       "      <td>150.75</td>\n",
       "    </tr>\n",
       "    <tr>\n",
       "      <th>1</th>\n",
       "      <td>2G3H4I5J6K7L8M9N0</td>\n",
       "      <td>1296</td>\n",
       "      <td>2022-12-05 00:00:00</td>\n",
       "      <td>26</td>\n",
       "      <td>Rechazada</td>\n",
       "      <td>200.00</td>\n",
       "    </tr>\n",
       "    <tr>\n",
       "      <th>2</th>\n",
       "      <td>2A3B4C5D6E7F8G9H0</td>\n",
       "      <td>4526</td>\n",
       "      <td>2021-06-15 00:00:00</td>\n",
       "      <td>11</td>\n",
       "      <td>Aprobada</td>\n",
       "      <td>75.50</td>\n",
       "    </tr>\n",
       "    <tr>\n",
       "      <th>3</th>\n",
       "      <td>2I3J4K5L6M7N8O9P0</td>\n",
       "      <td>9027</td>\n",
       "      <td>2020-09-10 00:00:00</td>\n",
       "      <td>22</td>\n",
       "      <td>Aprobada</td>\n",
       "      <td>300.00</td>\n",
       "    </tr>\n",
       "    <tr>\n",
       "      <th>4</th>\n",
       "      <td>2Q3R4S5T6U7V8W9X0</td>\n",
       "      <td>2612</td>\n",
       "      <td>2019-12-25 00:00:00</td>\n",
       "      <td>28</td>\n",
       "      <td>Rechazada</td>\n",
       "      <td>50.00</td>\n",
       "    </tr>\n",
       "  </tbody>\n",
       "</table>\n",
       "</div>"
      ],
      "text/plain": [
       "      IDENTIFICACION  ID_TRANSACCION    FECHA_TRANSACCION  CODIGO_CATEGORIA  \\\n",
       "0  2W3X4Y5Z6A7B8C9D0            5287  2023-01-20 00:00:00                14   \n",
       "1  2G3H4I5J6K7L8M9N0            1296  2022-12-05 00:00:00                26   \n",
       "2  2A3B4C5D6E7F8G9H0            4526  2021-06-15 00:00:00                11   \n",
       "3  2I3J4K5L6M7N8O9P0            9027  2020-09-10 00:00:00                22   \n",
       "4  2Q3R4S5T6U7V8W9X0            2612  2019-12-25 00:00:00                28   \n",
       "\n",
       "      ESTADO  VALOR_COMPRA  \n",
       "0   Aprobada        150.75  \n",
       "1  Rechazada        200.00  \n",
       "2   Aprobada         75.50  \n",
       "3   Aprobada        300.00  \n",
       "4  Rechazada         50.00  "
      ]
     },
     "execution_count": 7,
     "metadata": {},
     "output_type": "execute_result"
    }
   ],
   "source": [
    "transacciones_raw.head()"
   ]
  },
  {
   "cell_type": "markdown",
   "id": "eaf22c89",
   "metadata": {},
   "source": [
    "Analisis exploratorio de datos"
   ]
  },
  {
   "cell_type": "code",
   "execution_count": 10,
   "id": "114f1a6d",
   "metadata": {},
   "outputs": [
    {
     "data": {
      "text/plain": [
       "np.True_"
      ]
     },
     "execution_count": 10,
     "metadata": {},
     "output_type": "execute_result"
    }
   ],
   "source": [
    "transacciones_raw['ID_TRANSACCION'].duplicated().any()\n"
   ]
  },
  {
   "cell_type": "code",
   "execution_count": 11,
   "id": "d8e6bf4f",
   "metadata": {},
   "outputs": [
    {
     "data": {
      "text/plain": [
       "<Axes: ylabel='ESTADO'>"
      ]
     },
     "execution_count": 11,
     "metadata": {},
     "output_type": "execute_result"
    },
    {
     "data": {
      "image/png": "[encoded data removed]",
      "text/plain": [
       "<Figure size 640x480 with 1 Axes>"
      ]
     },
     "metadata": {},
     "output_type": "display_data"
    }
   ],
   "source": [
    "transacciones_raw['ESTADO'].value_counts().plot(kind='barh')\n"
   ]
  },
  {
   "cell_type": "code",
   "execution_count": 12,
   "id": "258c5b7e",
   "metadata": {},
   "outputs": [
    {
     "data": {
      "text/plain": [
       "<Axes: >"
      ]
     },
     "execution_count": 12,
     "metadata": {},
     "output_type": "execute_result"
    },
    {
     "data": {
      "image/png": "[encoded data removed]",
      "text/plain": [
       "<Figure size 640x480 with 1 Axes>"
      ]
     },
     "metadata": {},
     "output_type": "display_data"
    }
   ],
   "source": [
    "transacciones_raw['VALOR_COMPRA'].plot(kind='box')"
   ]
  },
  {
   "cell_type": "markdown",
   "id": "9d2b564a",
   "metadata": {},
   "source": [
    "Revisamos rangos y valores de fecha"
   ]
  },
  {
   "cell_type": "code",
   "execution_count": 14,
   "id": "c48df5f6",
   "metadata": {},
   "outputs": [
    {
     "data": {
      "text/plain": [
       "FECHA_TRANSACCION\n",
       "<class 'datetime.datetime'>    119\n",
       "<class 'int'>                    1\n",
       "Name: count, dtype: int64"
      ]
     },
     "execution_count": 14,
     "metadata": {},
     "output_type": "execute_result"
    }
   ],
   "source": [
    "transacciones_raw['FECHA_TRANSACCION'].apply(type).value_counts()\n"
   ]
  },
  {
   "cell_type": "code",
   "execution_count": 16,
   "id": "377fd062",
   "metadata": {},
   "outputs": [
    {
     "data": {
      "text/html": [
       "<div>\n",
       "<style scoped>\n",
       "    .dataframe tbody tr th:only-of-type {\n",
       "        vertical-align: middle;\n",
       "    }\n",
       "\n",
       "    .dataframe tbody tr th {\n",
       "        vertical-align: top;\n",
       "    }\n",
       "\n",
       "    .dataframe thead th {\n",
       "        text-align: right;\n",
       "    }\n",
       "</style>\n",
       "<table border=\"1\" class=\"dataframe\">\n",
       "  <thead>\n",
       "    <tr style=\"text-align: right;\">\n",
       "      <th></th>\n",
       "      <th>IDENTIFICACION</th>\n",
       "      <th>ID_TRANSACCION</th>\n",
       "      <th>FECHA_TRANSACCION</th>\n",
       "      <th>CODIGO_CATEGORIA</th>\n",
       "      <th>ESTADO</th>\n",
       "      <th>VALOR_COMPRA</th>\n",
       "    </tr>\n",
       "  </thead>\n",
       "  <tbody>\n",
       "    <tr>\n",
       "      <th>34</th>\n",
       "      <td>2A3B4C5D6E7F8G9H0</td>\n",
       "      <td>4260</td>\n",
       "      <td>0</td>\n",
       "      <td>47</td>\n",
       "      <td>Aprobada</td>\n",
       "      <td>205.0</td>\n",
       "    </tr>\n",
       "  </tbody>\n",
       "</table>\n",
       "</div>"
      ],
      "text/plain": [
       "       IDENTIFICACION  ID_TRANSACCION FECHA_TRANSACCION  CODIGO_CATEGORIA  \\\n",
       "34  2A3B4C5D6E7F8G9H0            4260                 0                47   \n",
       "\n",
       "      ESTADO  VALOR_COMPRA  \n",
       "34  Aprobada         205.0  "
      ]
     },
     "execution_count": 16,
     "metadata": {},
     "output_type": "execute_result"
    }
   ],
   "source": [
    "transacciones_raw[transacciones_raw['FECHA_TRANSACCION'].apply(lambda x: isinstance(x, int))]\n"
   ]
  },
  {
   "cell_type": "markdown",
   "id": "fbe03b23",
   "metadata": {},
   "source": [
    "en este caso, lo ideal seria reemplazar el valor actual por el real, bien sea preguntando a quien corresponda en la empresa, como no se puede esta opcion se reemplazara por NaT para indicar que ahi hace falta una fecha valida y que no genere errores despues al consultar informacion"
   ]
  },
  {
   "cell_type": "code",
   "execution_count": 17,
   "id": "77eba768",
   "metadata": {},
   "outputs": [],
   "source": [
    "transacciones_raw['FECHA_TRANSACCION'] = transacciones_raw['FECHA_TRANSACCION'].apply(\n",
    "    lambda x: pd.NaT if x == 0 else x\n",
    ")\n",
    "transacciones_raw['FECHA_TRANSACCION'] = pd.to_datetime(transacciones_raw['FECHA_TRANSACCION'], errors='coerce')"
   ]
  },
  {
   "cell_type": "code",
   "execution_count": 18,
   "id": "7c65719d",
   "metadata": {},
   "outputs": [
    {
     "name": "stdout",
     "output_type": "stream",
     "text": [
      "2004-05-10 00:00:00\n",
      "2023-06-01 00:00:00\n"
     ]
    }
   ],
   "source": [
    "fechas = pd.to_datetime(transacciones_raw['FECHA_TRANSACCION'], errors='coerce')\n",
    "print(fechas.min())\n",
    "print(fechas.max())\n"
   ]
  },
  {
   "cell_type": "code",
   "execution_count": 21,
   "id": "b6ad3812",
   "metadata": {},
   "outputs": [],
   "source": [
    "ruta_tiempo = ruta_base / 'Ejercicio2' / 'data' / 'raw' / 'Tiempo.xlsx'\n",
    "tiempo = pd.read_excel(ruta_tiempo)"
   ]
  },
  {
   "cell_type": "code",
   "execution_count": 23,
   "id": "d4d54a85",
   "metadata": {},
   "outputs": [
    {
     "name": "stdout",
     "output_type": "stream",
     "text": [
      "<class 'pandas.core.frame.DataFrame'>\n",
      "RangeIndex: 139 entries, 0 to 138\n",
      "Data columns (total 2 columns):\n",
      " #   Column  Non-Null Count  Dtype         \n",
      "---  ------  --------------  -----         \n",
      " 0   fecha   138 non-null    datetime64[ns]\n",
      " 1   id      139 non-null    int64         \n",
      "dtypes: datetime64[ns](1), int64(1)\n",
      "memory usage: 2.3 KB\n"
     ]
    }
   ],
   "source": [
    "tiempo.info()"
   ]
  },
  {
   "cell_type": "code",
   "execution_count": 24,
   "id": "e5a7d0b8",
   "metadata": {},
   "outputs": [
    {
     "name": "stdout",
     "output_type": "stream",
     "text": [
      "<class 'pandas.core.frame.DataFrame'>\n",
      "RangeIndex: 120 entries, 0 to 119\n",
      "Data columns (total 6 columns):\n",
      " #   Column             Non-Null Count  Dtype         \n",
      "---  ------             --------------  -----         \n",
      " 0   IDENTIFICACION     120 non-null    object        \n",
      " 1   ID_TRANSACCION     120 non-null    int64         \n",
      " 2   FECHA_TRANSACCION  119 non-null    datetime64[ns]\n",
      " 3   CODIGO_CATEGORIA   120 non-null    int64         \n",
      " 4   ESTADO             120 non-null    object        \n",
      " 5   VALOR_COMPRA       120 non-null    float64       \n",
      "dtypes: datetime64[ns](1), float64(1), int64(2), object(2)\n",
      "memory usage: 5.8+ KB\n"
     ]
    }
   ],
   "source": [
    "transacciones_raw.info()"
   ]
  },
  {
   "cell_type": "markdown",
   "id": "1faef0dc",
   "metadata": {},
   "source": [
    "Mapeo de id de la dimension Tiempo a la tabla transacciones"
   ]
  },
  {
   "cell_type": "code",
   "execution_count": 26,
   "id": "06181057",
   "metadata": {},
   "outputs": [],
   "source": [
    "transacciones = transacciones_raw.copy()\n",
    "\n",
    "transacciones = transacciones.merge(tiempo[[\"fecha\", \"id\"]], left_on=\"FECHA_TRANSACCION\", right_on=\"fecha\", how=\"left\") \\\n",
    "                   .rename(columns={\"id\": \"id_fecha\"}) \\\n",
    "                   .drop(columns=[\"fecha\",\"FECHA_TRANSACCION\"]) "
   ]
  },
  {
   "cell_type": "code",
   "execution_count": 27,
   "id": "5d7680a1",
   "metadata": {},
   "outputs": [
    {
     "data": {
      "text/html": [
       "<div>\n",
       "<style scoped>\n",
       "    .dataframe tbody tr th:only-of-type {\n",
       "        vertical-align: middle;\n",
       "    }\n",
       "\n",
       "    .dataframe tbody tr th {\n",
       "        vertical-align: top;\n",
       "    }\n",
       "\n",
       "    .dataframe thead th {\n",
       "        text-align: right;\n",
       "    }\n",
       "</style>\n",
       "<table border=\"1\" class=\"dataframe\">\n",
       "  <thead>\n",
       "    <tr style=\"text-align: right;\">\n",
       "      <th></th>\n",
       "      <th>IDENTIFICACION</th>\n",
       "      <th>ID_TRANSACCION</th>\n",
       "      <th>CODIGO_CATEGORIA</th>\n",
       "      <th>ESTADO</th>\n",
       "      <th>VALOR_COMPRA</th>\n",
       "      <th>id_fecha</th>\n",
       "    </tr>\n",
       "  </thead>\n",
       "  <tbody>\n",
       "    <tr>\n",
       "      <th>0</th>\n",
       "      <td>2W3X4Y5Z6A7B8C9D0</td>\n",
       "      <td>5287</td>\n",
       "      <td>14</td>\n",
       "      <td>Aprobada</td>\n",
       "      <td>150.75</td>\n",
       "      <td>133</td>\n",
       "    </tr>\n",
       "    <tr>\n",
       "      <th>1</th>\n",
       "      <td>2G3H4I5J6K7L8M9N0</td>\n",
       "      <td>1296</td>\n",
       "      <td>26</td>\n",
       "      <td>Rechazada</td>\n",
       "      <td>200.00</td>\n",
       "      <td>130</td>\n",
       "    </tr>\n",
       "    <tr>\n",
       "      <th>2</th>\n",
       "      <td>2A3B4C5D6E7F8G9H0</td>\n",
       "      <td>4526</td>\n",
       "      <td>11</td>\n",
       "      <td>Aprobada</td>\n",
       "      <td>75.50</td>\n",
       "      <td>119</td>\n",
       "    </tr>\n",
       "    <tr>\n",
       "      <th>3</th>\n",
       "      <td>2I3J4K5L6M7N8O9P0</td>\n",
       "      <td>9027</td>\n",
       "      <td>22</td>\n",
       "      <td>Aprobada</td>\n",
       "      <td>300.00</td>\n",
       "      <td>113</td>\n",
       "    </tr>\n",
       "    <tr>\n",
       "      <th>4</th>\n",
       "      <td>2Q3R4S5T6U7V8W9X0</td>\n",
       "      <td>2612</td>\n",
       "      <td>28</td>\n",
       "      <td>Rechazada</td>\n",
       "      <td>50.00</td>\n",
       "      <td>111</td>\n",
       "    </tr>\n",
       "  </tbody>\n",
       "</table>\n",
       "</div>"
      ],
      "text/plain": [
       "      IDENTIFICACION  ID_TRANSACCION  CODIGO_CATEGORIA     ESTADO  \\\n",
       "0  2W3X4Y5Z6A7B8C9D0            5287                14   Aprobada   \n",
       "1  2G3H4I5J6K7L8M9N0            1296                26  Rechazada   \n",
       "2  2A3B4C5D6E7F8G9H0            4526                11   Aprobada   \n",
       "3  2I3J4K5L6M7N8O9P0            9027                22   Aprobada   \n",
       "4  2Q3R4S5T6U7V8W9X0            2612                28  Rechazada   \n",
       "\n",
       "   VALOR_COMPRA  id_fecha  \n",
       "0        150.75       133  \n",
       "1        200.00       130  \n",
       "2         75.50       119  \n",
       "3        300.00       113  \n",
       "4         50.00       111  "
      ]
     },
     "execution_count": 27,
     "metadata": {},
     "output_type": "execute_result"
    }
   ],
   "source": [
    "transacciones.head()"
   ]
  },
  {
   "cell_type": "markdown",
   "id": "38a70b68",
   "metadata": {},
   "source": [
    "Guardar datos procesados como csv"
   ]
  },
  {
   "cell_type": "code",
   "execution_count": 28,
   "id": "37cc82b3",
   "metadata": {},
   "outputs": [],
   "source": [
    "carpeta_destino = ruta_base / 'Ejercicio2' / 'data' / 'processed'\n",
    "\n",
    "transacciones.to_csv(carpeta_destino / 'transacciones.csv', index=False)"
   ]
  }
 ],
 "metadata": {
  "kernelspec": {
   "display_name": "Python 3",
   "language": "python",
   "name": "python3"
  },
  "language_info": {
   "codemirror_mode": {
    "name": "ipython",
    "version": 3
   },
   "file_extension": ".py",
   "mimetype": "text/x-python",
   "name": "python",
   "nbconvert_exporter": "python",
   "pygments_lexer": "ipython3",
   "version": "3.12.5"
  }
 },
 "nbformat": 4,
 "nbformat_minor": 5
}
