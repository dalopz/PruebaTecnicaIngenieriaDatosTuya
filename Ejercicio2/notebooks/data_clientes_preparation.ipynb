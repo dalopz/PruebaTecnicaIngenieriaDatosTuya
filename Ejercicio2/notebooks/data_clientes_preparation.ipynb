{
 "cells": [
  {
   "cell_type": "code",
   "execution_count": 15,
   "id": "654b630a",
   "metadata": {},
   "outputs": [],
   "source": [
    "import pandas as pd\n",
    "from pathlib import Path"
   ]
  },
  {
   "cell_type": "code",
   "execution_count": 16,
   "id": "ff4231c9",
   "metadata": {},
   "outputs": [],
   "source": [
    "ruta_base = Path.cwd()\n",
    "ruta_base = ruta_base.parents[1]"
   ]
  },
  {
   "cell_type": "code",
   "execution_count": 17,
   "id": "d01b28bf",
   "metadata": {},
   "outputs": [],
   "source": [
    "ruta_bd = ruta_base / 'Ejercicio2' / 'data' / 'raw' / 'bd.xlsx'\n",
    "clientes_raw = pd.read_excel(ruta_bd, sheet_name='CLIENTES')"
   ]
  },
  {
   "cell_type": "code",
   "execution_count": 18,
   "id": "6d2266a4",
   "metadata": {},
   "outputs": [
    {
     "data": {
      "text/html": [
       "<div>\n",
       "<style scoped>\n",
       "    .dataframe tbody tr th:only-of-type {\n",
       "        vertical-align: middle;\n",
       "    }\n",
       "\n",
       "    .dataframe tbody tr th {\n",
       "        vertical-align: top;\n",
       "    }\n",
       "\n",
       "    .dataframe thead th {\n",
       "        text-align: right;\n",
       "    }\n",
       "</style>\n",
       "<table border=\"1\" class=\"dataframe\">\n",
       "  <thead>\n",
       "    <tr style=\"text-align: right;\">\n",
       "      <th></th>\n",
       "      <th>NOMBRE</th>\n",
       "      <th>IDENTIFICACIÓN</th>\n",
       "      <th>TIPO_DOCUMENTO</th>\n",
       "      <th>CLASIFICACION</th>\n",
       "      <th>TIPO TARJETA</th>\n",
       "      <th>FEÇHA_APERTURA_TARJETA</th>\n",
       "      <th>ESTADO_TARJETA</th>\n",
       "    </tr>\n",
       "  </thead>\n",
       "  <tbody>\n",
       "    <tr>\n",
       "      <th>0</th>\n",
       "      <td>Juan Pérez</td>\n",
       "      <td>2C3D4E5F6G7H8I9J0</td>\n",
       "      <td>DNI</td>\n",
       "      <td>Personal</td>\n",
       "      <td>Crédito</td>\n",
       "      <td>2023-01-15</td>\n",
       "      <td>Activa</td>\n",
       "    </tr>\n",
       "    <tr>\n",
       "      <th>1</th>\n",
       "      <td>María García</td>\n",
       "      <td>2M3N4O5P6Q7R8S9T0</td>\n",
       "      <td>Pasaporte</td>\n",
       "      <td>Empresarial</td>\n",
       "      <td>Débito</td>\n",
       "      <td>2022-11-20</td>\n",
       "      <td>Activa</td>\n",
       "    </tr>\n",
       "    <tr>\n",
       "      <th>2</th>\n",
       "      <td>Carlos Rodríguez</td>\n",
       "      <td>2W3X4Y5Z6A7B8C9D0</td>\n",
       "      <td>DNI</td>\n",
       "      <td>Personal</td>\n",
       "      <td>Crédito</td>\n",
       "      <td>2021-05-30</td>\n",
       "      <td>Inactiva</td>\n",
       "    </tr>\n",
       "    <tr>\n",
       "      <th>3</th>\n",
       "      <td>Ana Martínez</td>\n",
       "      <td>2G3H4I5J6K7L8M9N0</td>\n",
       "      <td>Cédula</td>\n",
       "      <td>Empresarial</td>\n",
       "      <td>Débito</td>\n",
       "      <td>2020-08-25</td>\n",
       "      <td>Activa</td>\n",
       "    </tr>\n",
       "    <tr>\n",
       "      <th>4</th>\n",
       "      <td>Luis Hernández</td>\n",
       "      <td>2Q3R4S5T6U7V8W9X0</td>\n",
       "      <td>Pasaporte</td>\n",
       "      <td>Personal</td>\n",
       "      <td>Crédito</td>\n",
       "      <td>2019-12-10</td>\n",
       "      <td>Activa</td>\n",
       "    </tr>\n",
       "  </tbody>\n",
       "</table>\n",
       "</div>"
      ],
      "text/plain": [
       "             NOMBRE     IDENTIFICACIÓN TIPO_DOCUMENTO CLASIFICACION  \\\n",
       "0        Juan Pérez  2C3D4E5F6G7H8I9J0            DNI      Personal   \n",
       "1      María García  2M3N4O5P6Q7R8S9T0      Pasaporte   Empresarial   \n",
       "2  Carlos Rodríguez  2W3X4Y5Z6A7B8C9D0            DNI      Personal   \n",
       "3      Ana Martínez  2G3H4I5J6K7L8M9N0         Cédula   Empresarial   \n",
       "4    Luis Hernández  2Q3R4S5T6U7V8W9X0      Pasaporte      Personal   \n",
       "\n",
       "  TIPO TARJETA FEÇHA_APERTURA_TARJETA ESTADO_TARJETA  \n",
       "0      Crédito             2023-01-15         Activa  \n",
       "1       Débito             2022-11-20         Activa  \n",
       "2      Crédito             2021-05-30       Inactiva  \n",
       "3       Débito             2020-08-25         Activa  \n",
       "4      Crédito             2019-12-10         Activa  "
      ]
     },
     "execution_count": 18,
     "metadata": {},
     "output_type": "execute_result"
    }
   ],
   "source": [
    "clientes_raw.head()"
   ]
  },
  {
   "cell_type": "markdown",
   "id": "eaf22c89",
   "metadata": {},
   "source": [
    "Analisis exploratorio de datos"
   ]
  },
  {
   "cell_type": "markdown",
   "id": "fac84604",
   "metadata": {},
   "source": [
    "Es necesario realizar un analisis exploratorio de datos, para verificar el estado de los datos, posibles valores atipicos, valores no permitidos, en esta etapa es crucial tener a la mano un diccionario de datos con las reglas del negocio para determinar que valores son permitidos y cuales no"
   ]
  },
  {
   "cell_type": "code",
   "execution_count": 19,
   "id": "62d22505",
   "metadata": {},
   "outputs": [],
   "source": [
    "\n",
    "clientes_raw = clientes_raw.rename(columns={'FEÇHA_APERTURA_TARJETA': 'FECHA_APERTURA_TARJETA'})\n",
    "clientes_raw = clientes_raw.rename(columns={'TIPO TARJETA': 'TIPO_TARJETA'})\n"
   ]
  },
  {
   "cell_type": "code",
   "execution_count": 20,
   "id": "4b8aa7b0",
   "metadata": {},
   "outputs": [
    {
     "data": {
      "text/plain": [
       "IDENTIFICACIÓN\n",
       "2C3D4E5F6G7H8I9J0    2\n",
       "2M3N4O5P6Q7R8S9T0    2\n",
       "2W3X4Y5Z6A7B8C9D0    2\n",
       "2G3H4I5J6K7L8M9N0    2\n",
       "2Q3R4S5T6U7V8W9X0    2\n",
       "2A3B4C5D6E7F8G9H0    2\n",
       "2K3L4M5N6O7P8Q9R0    2\n",
       "Name: count, dtype: int64"
      ]
     },
     "execution_count": 20,
     "metadata": {},
     "output_type": "execute_result"
    }
   ],
   "source": [
    "clientes_raw['IDENTIFICACIÓN'].value_counts()[lambda x: x > 1]\n"
   ]
  },
  {
   "cell_type": "code",
   "execution_count": 21,
   "id": "377b2612",
   "metadata": {},
   "outputs": [
    {
     "data": {
      "text/html": [
       "<div>\n",
       "<style scoped>\n",
       "    .dataframe tbody tr th:only-of-type {\n",
       "        vertical-align: middle;\n",
       "    }\n",
       "\n",
       "    .dataframe tbody tr th {\n",
       "        vertical-align: top;\n",
       "    }\n",
       "\n",
       "    .dataframe thead th {\n",
       "        text-align: right;\n",
       "    }\n",
       "</style>\n",
       "<table border=\"1\" class=\"dataframe\">\n",
       "  <thead>\n",
       "    <tr style=\"text-align: right;\">\n",
       "      <th></th>\n",
       "      <th>NOMBRE</th>\n",
       "      <th>IDENTIFICACIÓN</th>\n",
       "      <th>TIPO_DOCUMENTO</th>\n",
       "      <th>CLASIFICACION</th>\n",
       "      <th>TIPO_TARJETA</th>\n",
       "      <th>FECHA_APERTURA_TARJETA</th>\n",
       "      <th>ESTADO_TARJETA</th>\n",
       "    </tr>\n",
       "  </thead>\n",
       "  <tbody>\n",
       "    <tr>\n",
       "      <th>5</th>\n",
       "      <td>Laura López</td>\n",
       "      <td>2A3B4C5D6E7F8G9H0</td>\n",
       "      <td>DNI</td>\n",
       "      <td>Empresarial</td>\n",
       "      <td>Débito</td>\n",
       "      <td>2018-07-14</td>\n",
       "      <td>Inactiva</td>\n",
       "    </tr>\n",
       "    <tr>\n",
       "      <th>17</th>\n",
       "      <td>Santiago Vargas</td>\n",
       "      <td>2A3B4C5D6E7F8G9H0</td>\n",
       "      <td>Cédula</td>\n",
       "      <td>Personal</td>\n",
       "      <td>Crédito</td>\n",
       "      <td>2005-11-23</td>\n",
       "      <td>Activa</td>\n",
       "    </tr>\n",
       "    <tr>\n",
       "      <th>0</th>\n",
       "      <td>Juan Pérez</td>\n",
       "      <td>2C3D4E5F6G7H8I9J0</td>\n",
       "      <td>DNI</td>\n",
       "      <td>Personal</td>\n",
       "      <td>Crédito</td>\n",
       "      <td>2023-01-15</td>\n",
       "      <td>Activa</td>\n",
       "    </tr>\n",
       "    <tr>\n",
       "      <th>12</th>\n",
       "      <td>Paula Mendoza</td>\n",
       "      <td>2C3D4E5F6G7H8I9J0</td>\n",
       "      <td>Pasaporte</td>\n",
       "      <td>Empresarial</td>\n",
       "      <td>Débito</td>\n",
       "      <td>2010-05-21</td>\n",
       "      <td>Activa</td>\n",
       "    </tr>\n",
       "    <tr>\n",
       "      <th>3</th>\n",
       "      <td>Ana Martínez</td>\n",
       "      <td>2G3H4I5J6K7L8M9N0</td>\n",
       "      <td>Cédula</td>\n",
       "      <td>Empresarial</td>\n",
       "      <td>Débito</td>\n",
       "      <td>2020-08-25</td>\n",
       "      <td>Activa</td>\n",
       "    </tr>\n",
       "    <tr>\n",
       "      <th>15</th>\n",
       "      <td>Fernando Castro</td>\n",
       "      <td>2G3H4I5J6K7L8M9N0</td>\n",
       "      <td>Pasaporte</td>\n",
       "      <td>Personal</td>\n",
       "      <td>Crédito</td>\n",
       "      <td>2007-03-29</td>\n",
       "      <td>Açtiva</td>\n",
       "    </tr>\n",
       "    <tr>\n",
       "      <th>6</th>\n",
       "      <td>Pedro González</td>\n",
       "      <td>2K3L4M5N6O7P8Q9R0</td>\n",
       "      <td>Cédula</td>\n",
       "      <td>Personal</td>\n",
       "      <td>Crédito</td>\n",
       "      <td>2017-03-22</td>\n",
       "      <td>Activa</td>\n",
       "    </tr>\n",
       "    <tr>\n",
       "      <th>18</th>\n",
       "      <td>Natalia Herrera</td>\n",
       "      <td>2K3L4M5N6O7P8Q9R0</td>\n",
       "      <td>Pasaporte</td>\n",
       "      <td>Empresarial</td>\n",
       "      <td>Débito</td>\n",
       "      <td>2004-04-05</td>\n",
       "      <td>Activa</td>\n",
       "    </tr>\n",
       "    <tr>\n",
       "      <th>1</th>\n",
       "      <td>María García</td>\n",
       "      <td>2M3N4O5P6Q7R8S9T0</td>\n",
       "      <td>Pasaporte</td>\n",
       "      <td>Empresarial</td>\n",
       "      <td>Débito</td>\n",
       "      <td>2022-11-20</td>\n",
       "      <td>Activa</td>\n",
       "    </tr>\n",
       "    <tr>\n",
       "      <th>13</th>\n",
       "      <td>Fernando Castro</td>\n",
       "      <td>2M3N4O5P6Q7R8S9T0</td>\n",
       "      <td>DNI</td>\n",
       "      <td>Personal</td>\n",
       "      <td>Crédito</td>\n",
       "      <td>2009-08-03</td>\n",
       "      <td>Inactiva</td>\n",
       "    </tr>\n",
       "    <tr>\n",
       "      <th>4</th>\n",
       "      <td>Luis Hernández</td>\n",
       "      <td>2Q3R4S5T6U7V8W9X0</td>\n",
       "      <td>Pasaporte</td>\n",
       "      <td>Personal</td>\n",
       "      <td>Crédito</td>\n",
       "      <td>2019-12-10</td>\n",
       "      <td>Activa</td>\n",
       "    </tr>\n",
       "    <tr>\n",
       "      <th>16</th>\n",
       "      <td>Valentina Romero</td>\n",
       "      <td>2Q3R4S5T6U7V8W9X0</td>\n",
       "      <td>DNI</td>\n",
       "      <td>Empresarial</td>\n",
       "      <td>Débito</td>\n",
       "      <td>2006-07-11</td>\n",
       "      <td>Inactiva</td>\n",
       "    </tr>\n",
       "    <tr>\n",
       "      <th>2</th>\n",
       "      <td>Carlos Rodríguez</td>\n",
       "      <td>2W3X4Y5Z6A7B8C9D0</td>\n",
       "      <td>DNI</td>\n",
       "      <td>Personal</td>\n",
       "      <td>Crédito</td>\n",
       "      <td>2021-05-30</td>\n",
       "      <td>Inactiva</td>\n",
       "    </tr>\n",
       "    <tr>\n",
       "      <th>14</th>\n",
       "      <td>Gabriela Ortiz</td>\n",
       "      <td>2W3X4Y5Z6A7B8C9D0</td>\n",
       "      <td>Cédula</td>\n",
       "      <td>Empresarial</td>\n",
       "      <td>Débito</td>\n",
       "      <td>2008-12-15</td>\n",
       "      <td>Activa</td>\n",
       "    </tr>\n",
       "  </tbody>\n",
       "</table>\n",
       "</div>"
      ],
      "text/plain": [
       "              NOMBRE     IDENTIFICACIÓN TIPO_DOCUMENTO CLASIFICACION  \\\n",
       "5        Laura López  2A3B4C5D6E7F8G9H0            DNI   Empresarial   \n",
       "17   Santiago Vargas  2A3B4C5D6E7F8G9H0         Cédula      Personal   \n",
       "0         Juan Pérez  2C3D4E5F6G7H8I9J0            DNI      Personal   \n",
       "12     Paula Mendoza  2C3D4E5F6G7H8I9J0      Pasaporte   Empresarial   \n",
       "3       Ana Martínez  2G3H4I5J6K7L8M9N0         Cédula   Empresarial   \n",
       "15   Fernando Castro  2G3H4I5J6K7L8M9N0      Pasaporte      Personal   \n",
       "6     Pedro González  2K3L4M5N6O7P8Q9R0         Cédula      Personal   \n",
       "18   Natalia Herrera  2K3L4M5N6O7P8Q9R0      Pasaporte   Empresarial   \n",
       "1       María García  2M3N4O5P6Q7R8S9T0      Pasaporte   Empresarial   \n",
       "13   Fernando Castro  2M3N4O5P6Q7R8S9T0            DNI      Personal   \n",
       "4     Luis Hernández  2Q3R4S5T6U7V8W9X0      Pasaporte      Personal   \n",
       "16  Valentina Romero  2Q3R4S5T6U7V8W9X0            DNI   Empresarial   \n",
       "2   Carlos Rodríguez  2W3X4Y5Z6A7B8C9D0            DNI      Personal   \n",
       "14    Gabriela Ortiz  2W3X4Y5Z6A7B8C9D0         Cédula   Empresarial   \n",
       "\n",
       "   TIPO_TARJETA FECHA_APERTURA_TARJETA ESTADO_TARJETA  \n",
       "5        Débito             2018-07-14       Inactiva  \n",
       "17      Crédito             2005-11-23         Activa  \n",
       "0       Crédito             2023-01-15         Activa  \n",
       "12       Débito             2010-05-21         Activa  \n",
       "3        Débito             2020-08-25         Activa  \n",
       "15      Crédito             2007-03-29         Açtiva  \n",
       "6       Crédito             2017-03-22         Activa  \n",
       "18       Débito             2004-04-05         Activa  \n",
       "1        Débito             2022-11-20         Activa  \n",
       "13      Crédito             2009-08-03       Inactiva  \n",
       "4       Crédito             2019-12-10         Activa  \n",
       "16       Débito             2006-07-11       Inactiva  \n",
       "2       Crédito             2021-05-30       Inactiva  \n",
       "14       Débito             2008-12-15         Activa  "
      ]
     },
     "execution_count": 21,
     "metadata": {},
     "output_type": "execute_result"
    }
   ],
   "source": [
    "duplicados = clientes_raw[clientes_raw.duplicated(subset='IDENTIFICACIÓN', keep=False)]\n",
    "duplicados = duplicados.sort_values('IDENTIFICACIÓN')\n",
    "duplicados"
   ]
  },
  {
   "cell_type": "markdown",
   "id": "c34ef3a5",
   "metadata": {},
   "source": [
    "Tenemos un error en la integridad referencial ya que un mismo valor de IDENTIFICACION puede estar en mas de una persona y no es posible determinar a que cliente en realidad pertenece, en el notebook clientes_validados detallo el paso a paso de la decision que tomé para tratar este caso"
   ]
  },
  {
   "cell_type": "code",
   "execution_count": 22,
   "id": "d8e6bf4f",
   "metadata": {},
   "outputs": [
    {
     "data": {
      "text/plain": [
       "<Axes: ylabel='TIPO_DOCUMENTO'>"
      ]
     },
     "execution_count": 22,
     "metadata": {},
     "output_type": "execute_result"
    },
    {
     "data": {
      "image/png": "[encoded data removed]",
      "text/plain": [
       "<Figure size 640x480 with 1 Axes>"
      ]
     },
     "metadata": {},
     "output_type": "display_data"
    }
   ],
   "source": [
    "clientes_raw['TIPO_DOCUMENTO'].value_counts().plot(kind='barh')\n"
   ]
  },
  {
   "cell_type": "code",
   "execution_count": 23,
   "id": "258c5b7e",
   "metadata": {},
   "outputs": [
    {
     "data": {
      "text/plain": [
       "<Axes: ylabel='CLASIFICACION'>"
      ]
     },
     "execution_count": 23,
     "metadata": {},
     "output_type": "execute_result"
    },
    {
     "data": {
      "image/png": "[encoded data removed]",
      "text/plain": [
       "<Figure size 640x480 with 1 Axes>"
      ]
     },
     "metadata": {},
     "output_type": "display_data"
    }
   ],
   "source": [
    "clientes_raw['CLASIFICACION'].value_counts().plot(kind='barh')"
   ]
  },
  {
   "cell_type": "code",
   "execution_count": 24,
   "id": "c48df5f6",
   "metadata": {},
   "outputs": [
    {
     "data": {
      "text/plain": [
       "<Axes: ylabel='TIPO_TARJETA'>"
      ]
     },
     "execution_count": 24,
     "metadata": {},
     "output_type": "execute_result"
    },
    {
     "data": {
      "image/png": "[encoded data removed]",
      "text/plain": [
       "<Figure size 640x480 with 1 Axes>"
      ]
     },
     "metadata": {},
     "output_type": "display_data"
    }
   ],
   "source": [
    "clientes_raw['TIPO_TARJETA'].value_counts().plot(kind='barh')"
   ]
  },
  {
   "cell_type": "code",
   "execution_count": 25,
   "id": "2d3f8c70",
   "metadata": {},
   "outputs": [
    {
     "data": {
      "text/plain": [
       "<Axes: ylabel='ESTADO_TARJETA'>"
      ]
     },
     "execution_count": 25,
     "metadata": {},
     "output_type": "execute_result"
    },
    {
     "data": {
      "image/png": "[encoded data removed]",
      "text/plain": [
       "<Figure size 640x480 with 1 Axes>"
      ]
     },
     "metadata": {},
     "output_type": "display_data"
    }
   ],
   "source": [
    "clientes_raw['ESTADO_TARJETA'].value_counts().plot(kind='barh')"
   ]
  },
  {
   "cell_type": "markdown",
   "id": "930e57d7",
   "metadata": {},
   "source": [
    "en este caso se asume que los valores permitidos son Activa e Inactiva, los demas valores presentes se entiende que son problemas de calidad de datos por lo cual se reemplazaran con los valores aceptables"
   ]
  },
  {
   "cell_type": "code",
   "execution_count": 26,
   "id": "9922c03f",
   "metadata": {},
   "outputs": [],
   "source": [
    "clientes_raw['ESTADO_TARJETA'] = clientes_raw['ESTADO_TARJETA'].replace({'Açtiva': 'Activa'})\n",
    "clientes_raw['ESTADO_TARJETA'] = clientes_raw['ESTADO_TARJETA'].replace({'Inativa': 'Inactiva'})"
   ]
  },
  {
   "cell_type": "code",
   "execution_count": 27,
   "id": "20ceb9f7",
   "metadata": {},
   "outputs": [
    {
     "data": {
      "text/plain": [
       "<Axes: ylabel='ESTADO_TARJETA'>"
      ]
     },
     "execution_count": 27,
     "metadata": {},
     "output_type": "execute_result"
    },
    {
     "data": {
      "image/png": "[encoded data removed]",
      "text/plain": [
       "<Figure size 640x480 with 1 Axes>"
      ]
     },
     "metadata": {},
     "output_type": "display_data"
    }
   ],
   "source": [
    "clientes_raw['ESTADO_TARJETA'].value_counts().plot(kind='barh')"
   ]
  },
  {
   "cell_type": "code",
   "execution_count": 28,
   "id": "e1a6fcd3",
   "metadata": {},
   "outputs": [
    {
     "data": {
      "text/plain": [
       "FECHA_APERTURA_TARJETA\n",
       "<class 'pandas._libs.tslibs.timestamps.Timestamp'>    20\n",
       "Name: count, dtype: int64"
      ]
     },
     "execution_count": 28,
     "metadata": {},
     "output_type": "execute_result"
    }
   ],
   "source": [
    "clientes_raw['FECHA_APERTURA_TARJETA'].apply(type).value_counts()\n"
   ]
  },
  {
   "cell_type": "markdown",
   "id": "8f907c5b",
   "metadata": {},
   "source": [
    "Creacion de dimensiones"
   ]
  },
  {
   "cell_type": "code",
   "execution_count": 29,
   "id": "b090d43d",
   "metadata": {},
   "outputs": [],
   "source": [
    "df_tipo_documento = pd.DataFrame({\n",
    "    \"id\": range(1, clientes_raw[\"TIPO_DOCUMENTO\"].nunique() + 1),\n",
    "    \"tipo_documento\": clientes_raw[\"TIPO_DOCUMENTO\"].drop_duplicates().values\n",
    "})"
   ]
  },
  {
   "cell_type": "code",
   "execution_count": 30,
   "id": "380e6aa5",
   "metadata": {},
   "outputs": [],
   "source": [
    "df_clasificacion = pd.DataFrame({\n",
    "    \"id\": range(1, clientes_raw[\"CLASIFICACION\"].nunique() + 1),\n",
    "    \"clasificacion\": clientes_raw[\"CLASIFICACION\"].drop_duplicates().values\n",
    "})"
   ]
  },
  {
   "cell_type": "code",
   "execution_count": 31,
   "id": "0df6d797",
   "metadata": {},
   "outputs": [],
   "source": [
    "df_tipo_tarjeta = pd.DataFrame({\n",
    "    \"id\": range(1, clientes_raw[\"TIPO_TARJETA\"].nunique() + 1),\n",
    "    \"tipo_tarjeta\": clientes_raw[\"TIPO_TARJETA\"].drop_duplicates().values\n",
    "})"
   ]
  },
  {
   "cell_type": "code",
   "execution_count": 32,
   "id": "222acc41",
   "metadata": {},
   "outputs": [],
   "source": [
    "df_estado_tarjeta = pd.DataFrame({\n",
    "    \"id\": range(1, clientes_raw[\"ESTADO_TARJETA\"].nunique() + 1),\n",
    "    \"estado_tarjeta\": clientes_raw[\"ESTADO_TARJETA\"].drop_duplicates().values\n",
    "})"
   ]
  },
  {
   "cell_type": "markdown",
   "id": "1faef0dc",
   "metadata": {},
   "source": [
    "Mapeo de id's de las dimensiones a la tabla clientes "
   ]
  },
  {
   "cell_type": "code",
   "execution_count": 33,
   "id": "06181057",
   "metadata": {},
   "outputs": [],
   "source": [
    "clientes = clientes_raw.copy()\n",
    "\n",
    "clientes = clientes.merge(df_tipo_documento[[\"tipo_documento\", \"id\"]], left_on=\"TIPO_DOCUMENTO\", right_on=\"tipo_documento\", how=\"left\") \\\n",
    "                   .rename(columns={\"id\": \"id_tipo_documento\"}) \\\n",
    "                   .drop(columns=[\"tipo_documento\",\"TIPO_DOCUMENTO\"]) \n",
    "\n",
    "clientes = clientes.merge(df_clasificacion[[\"clasificacion\", \"id\"]], left_on=\"CLASIFICACION\", right_on=\"clasificacion\", how=\"left\") \\\n",
    "                   .rename(columns={\"id\": \"id_clasificacion\"}) \\\n",
    "                   .drop(columns=[\"clasificacion\", \"CLASIFICACION\"]) \n",
    "\n",
    "clientes = clientes.merge(df_tipo_tarjeta[[\"tipo_tarjeta\", \"id\"]], left_on=\"TIPO_TARJETA\", right_on=\"tipo_tarjeta\", how=\"left\") \\\n",
    "                   .rename(columns={\"id\": \"id_tipo_tarjeta\"}) \\\n",
    "                   .drop(columns=[\"tipo_tarjeta\", \"TIPO_TARJETA\"])  \n",
    "\n",
    "clientes = clientes.merge(df_estado_tarjeta[[\"estado_tarjeta\", \"id\"]], left_on=\"ESTADO_TARJETA\", right_on=\"estado_tarjeta\", how=\"left\") \\\n",
    "                   .rename(columns={\"id\": \"id_estado_tarjeta\"}) \\\n",
    "                   .drop(columns=[\"estado_tarjeta\", \"ESTADO_TARJETA\"])  \n"
   ]
  },
  {
   "cell_type": "code",
   "execution_count": 34,
   "id": "9021731e",
   "metadata": {},
   "outputs": [],
   "source": [
    "ruta_tiempo = ruta_base / 'Ejercicio2' / 'data' / 'raw' / 'Tiempo.xlsx'\n",
    "tiempo = pd.read_excel(ruta_tiempo)"
   ]
  },
  {
   "cell_type": "code",
   "execution_count": 35,
   "id": "6d8062b8",
   "metadata": {},
   "outputs": [
    {
     "name": "stdout",
     "output_type": "stream",
     "text": [
      "<class 'pandas.core.frame.DataFrame'>\n",
      "RangeIndex: 139 entries, 0 to 138\n",
      "Data columns (total 2 columns):\n",
      " #   Column  Non-Null Count  Dtype         \n",
      "---  ------  --------------  -----         \n",
      " 0   fecha   138 non-null    datetime64[ns]\n",
      " 1   id      139 non-null    int64         \n",
      "dtypes: datetime64[ns](1), int64(1)\n",
      "memory usage: 2.3 KB\n"
     ]
    }
   ],
   "source": [
    "tiempo.info()"
   ]
  },
  {
   "cell_type": "code",
   "execution_count": 36,
   "id": "ab767319",
   "metadata": {},
   "outputs": [],
   "source": [
    "clientes = clientes.merge(tiempo[[\"fecha\", \"id\"]], left_on=\"FECHA_APERTURA_TARJETA\", right_on=\"fecha\", how=\"left\") \\\n",
    "                   .rename(columns={\"id\": \"id_fecha\"}) \\\n",
    "                   .drop(columns=[\"fecha\",\"FECHA_APERTURA_TARJETA\"]) "
   ]
  },
  {
   "cell_type": "code",
   "execution_count": 37,
   "id": "5d7680a1",
   "metadata": {},
   "outputs": [
    {
     "data": {
      "text/html": [
       "<div>\n",
       "<style scoped>\n",
       "    .dataframe tbody tr th:only-of-type {\n",
       "        vertical-align: middle;\n",
       "    }\n",
       "\n",
       "    .dataframe tbody tr th {\n",
       "        vertical-align: top;\n",
       "    }\n",
       "\n",
       "    .dataframe thead th {\n",
       "        text-align: right;\n",
       "    }\n",
       "</style>\n",
       "<table border=\"1\" class=\"dataframe\">\n",
       "  <thead>\n",
       "    <tr style=\"text-align: right;\">\n",
       "      <th></th>\n",
       "      <th>NOMBRE</th>\n",
       "      <th>IDENTIFICACIÓN</th>\n",
       "      <th>id_tipo_documento</th>\n",
       "      <th>id_clasificacion</th>\n",
       "      <th>id_tipo_tarjeta</th>\n",
       "      <th>id_estado_tarjeta</th>\n",
       "      <th>id_fecha</th>\n",
       "    </tr>\n",
       "  </thead>\n",
       "  <tbody>\n",
       "    <tr>\n",
       "      <th>0</th>\n",
       "      <td>Juan Pérez</td>\n",
       "      <td>2C3D4E5F6G7H8I9J0</td>\n",
       "      <td>1</td>\n",
       "      <td>1</td>\n",
       "      <td>1</td>\n",
       "      <td>1</td>\n",
       "      <td>132</td>\n",
       "    </tr>\n",
       "    <tr>\n",
       "      <th>1</th>\n",
       "      <td>María García</td>\n",
       "      <td>2M3N4O5P6Q7R8S9T0</td>\n",
       "      <td>2</td>\n",
       "      <td>2</td>\n",
       "      <td>2</td>\n",
       "      <td>1</td>\n",
       "      <td>129</td>\n",
       "    </tr>\n",
       "    <tr>\n",
       "      <th>2</th>\n",
       "      <td>Carlos Rodríguez</td>\n",
       "      <td>2W3X4Y5Z6A7B8C9D0</td>\n",
       "      <td>1</td>\n",
       "      <td>1</td>\n",
       "      <td>1</td>\n",
       "      <td>2</td>\n",
       "      <td>118</td>\n",
       "    </tr>\n",
       "    <tr>\n",
       "      <th>3</th>\n",
       "      <td>Ana Martínez</td>\n",
       "      <td>2G3H4I5J6K7L8M9N0</td>\n",
       "      <td>3</td>\n",
       "      <td>2</td>\n",
       "      <td>2</td>\n",
       "      <td>1</td>\n",
       "      <td>112</td>\n",
       "    </tr>\n",
       "    <tr>\n",
       "      <th>4</th>\n",
       "      <td>Luis Hernández</td>\n",
       "      <td>2Q3R4S5T6U7V8W9X0</td>\n",
       "      <td>2</td>\n",
       "      <td>1</td>\n",
       "      <td>1</td>\n",
       "      <td>1</td>\n",
       "      <td>110</td>\n",
       "    </tr>\n",
       "  </tbody>\n",
       "</table>\n",
       "</div>"
      ],
      "text/plain": [
       "             NOMBRE     IDENTIFICACIÓN  id_tipo_documento  id_clasificacion  \\\n",
       "0        Juan Pérez  2C3D4E5F6G7H8I9J0                  1                 1   \n",
       "1      María García  2M3N4O5P6Q7R8S9T0                  2                 2   \n",
       "2  Carlos Rodríguez  2W3X4Y5Z6A7B8C9D0                  1                 1   \n",
       "3      Ana Martínez  2G3H4I5J6K7L8M9N0                  3                 2   \n",
       "4    Luis Hernández  2Q3R4S5T6U7V8W9X0                  2                 1   \n",
       "\n",
       "   id_tipo_tarjeta  id_estado_tarjeta  id_fecha  \n",
       "0                1                  1       132  \n",
       "1                2                  1       129  \n",
       "2                1                  2       118  \n",
       "3                2                  1       112  \n",
       "4                1                  1       110  "
      ]
     },
     "execution_count": 37,
     "metadata": {},
     "output_type": "execute_result"
    }
   ],
   "source": [
    "clientes.head()"
   ]
  },
  {
   "cell_type": "markdown",
   "id": "38a70b68",
   "metadata": {},
   "source": [
    "Guardar datos procesados como csv"
   ]
  },
  {
   "cell_type": "code",
   "execution_count": null,
   "id": "37cc82b3",
   "metadata": {},
   "outputs": [],
   "source": [
    "carpeta_destino = ruta_base / 'Ejercicio2' / 'data' / 'processed'\n",
    "\n",
    "# clientes.to_csv(carpeta_destino / 'clientes.csv', index=False)\n",
    "df_clasificacion.to_csv(carpeta_destino / 'clasificacion.csv', index=False)\n",
    "df_estado_tarjeta.to_csv(carpeta_destino / 'estado_tarjeta.csv', index=False)\n",
    "df_tipo_documento.to_csv(carpeta_destino / 'tipo_documento.csv', index=False)\n",
    "df_tipo_tarjeta.to_csv(carpeta_destino / 'tipo_tarjeta.csv', index=False)\n",
    "\n",
    "\n",
    "\n"
   ]
  },
  {
   "cell_type": "code",
   "execution_count": 39,
   "id": "8740e407",
   "metadata": {},
   "outputs": [],
   "source": [
    "carpeta_destino_dup = ruta_base / 'Ejercicio2' / 'data' / 'interim'\n",
    "duplicados.to_csv(carpeta_destino_dup / 'clientes_duplicados.csv', index=False)\n"
   ]
  }
 ],
 "metadata": {
  "kernelspec": {
   "display_name": "Python 3",
   "language": "python",
   "name": "python3"
  },
  "language_info": {
   "codemirror_mode": {
    "name": "ipython",
    "version": 3
   },
   "file_extension": ".py",
   "mimetype": "text/x-python",
   "name": "python",
   "nbconvert_exporter": "python",
   "pygments_lexer": "ipython3",
   "version": "3.12.5"
  }
 },
 "nbformat": 4,
 "nbformat_minor": 5
}
