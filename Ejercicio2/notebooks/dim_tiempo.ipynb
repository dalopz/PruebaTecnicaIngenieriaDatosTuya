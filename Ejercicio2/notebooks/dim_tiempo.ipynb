{
 "cells": [
  {
   "cell_type": "code",
   "execution_count": 1,
   "id": "654b630a",
   "metadata": {},
   "outputs": [],
   "source": [
    "import pandas as pd\n",
    "from pathlib import Path"
   ]
  },
  {
   "cell_type": "code",
   "execution_count": 3,
   "id": "ff4231c9",
   "metadata": {},
   "outputs": [],
   "source": [
    "ruta_base = Path.cwd()\n",
    "ruta_base = ruta_base.parents[1]"
   ]
  },
  {
   "cell_type": "markdown",
   "id": "303c91c0",
   "metadata": {},
   "source": [
    "En este archivo lo que hice fue combinar en un excel todas las fechas presentes en las tablas clientes, y transacciones, se eliminaron duplicados y se tiene en cuenta valores faltantes con el id -1, y demas informacion que pueda ser de ayuda para futuras consultas para crear la dimension Tiempo"
   ]
  },
  {
   "cell_type": "code",
   "execution_count": 12,
   "id": "d01b28bf",
   "metadata": {},
   "outputs": [],
   "source": [
    "ruta_tiempo = ruta_base / 'Ejercicio2' / 'data' / 'raw' / 'Tiempo.xlsx'\n",
    "tiempo_raw = pd.read_excel(ruta_tiempo)"
   ]
  },
  {
   "cell_type": "code",
   "execution_count": 17,
   "id": "14b4a1fb",
   "metadata": {},
   "outputs": [
    {
     "data": {
      "text/plain": [
       "'Spanish_Spain.1252'"
      ]
     },
     "execution_count": 17,
     "metadata": {},
     "output_type": "execute_result"
    }
   ],
   "source": [
    "import locale\n",
    "\n",
    "locale.setlocale(locale.LC_TIME, 'Spanish_Spain.1252')\n"
   ]
  },
  {
   "cell_type": "code",
   "execution_count": 18,
   "id": "3b57acd7",
   "metadata": {},
   "outputs": [],
   "source": [
    "tiempo = tiempo_raw.copy()\n",
    "\n",
    "tiempo['anio'] = tiempo['fecha'].dt.year\n",
    "tiempo['mes'] = tiempo['fecha'].dt.month\n",
    "tiempo['dia'] = tiempo['fecha'].dt.day\n",
    "tiempo['nombre_mes'] = tiempo['fecha'].dt.strftime('%B')  \n",
    "tiempo['dia_semana'] = tiempo['fecha'].dt.strftime('%A')      \n",
    "tiempo['anio_mes'] = tiempo['fecha'].dt.strftime('%Y-%m')      \n",
    "tiempo['semana_anio'] = tiempo['fecha'].dt.isocalendar().week  \n"
   ]
  },
  {
   "cell_type": "code",
   "execution_count": 19,
   "id": "edeb816f",
   "metadata": {},
   "outputs": [],
   "source": [
    "tiempo['anio'] = tiempo['anio'].astype('Int64')\n",
    "tiempo['mes'] = tiempo['mes'].astype('Int64')\n",
    "tiempo['dia'] = tiempo['dia'].astype('Int64')\n",
    "tiempo['semana_anio'] = tiempo['semana_anio'].astype('Int64')\n"
   ]
  },
  {
   "cell_type": "code",
   "execution_count": 20,
   "id": "728b2c88",
   "metadata": {},
   "outputs": [
    {
     "data": {
      "text/html": [
       "<div>\n",
       "<style scoped>\n",
       "    .dataframe tbody tr th:only-of-type {\n",
       "        vertical-align: middle;\n",
       "    }\n",
       "\n",
       "    .dataframe tbody tr th {\n",
       "        vertical-align: top;\n",
       "    }\n",
       "\n",
       "    .dataframe thead th {\n",
       "        text-align: right;\n",
       "    }\n",
       "</style>\n",
       "<table border=\"1\" class=\"dataframe\">\n",
       "  <thead>\n",
       "    <tr style=\"text-align: right;\">\n",
       "      <th></th>\n",
       "      <th>fecha</th>\n",
       "      <th>id</th>\n",
       "      <th>anio</th>\n",
       "      <th>mes</th>\n",
       "      <th>dia</th>\n",
       "      <th>nombre_mes</th>\n",
       "      <th>dia_semana</th>\n",
       "      <th>anio_mes</th>\n",
       "      <th>semana_anio</th>\n",
       "    </tr>\n",
       "  </thead>\n",
       "  <tbody>\n",
       "    <tr>\n",
       "      <th>0</th>\n",
       "      <td>NaT</td>\n",
       "      <td>-1</td>\n",
       "      <td>&lt;NA&gt;</td>\n",
       "      <td>&lt;NA&gt;</td>\n",
       "      <td>&lt;NA&gt;</td>\n",
       "      <td>NaN</td>\n",
       "      <td>NaN</td>\n",
       "      <td>NaN</td>\n",
       "      <td>&lt;NA&gt;</td>\n",
       "    </tr>\n",
       "    <tr>\n",
       "      <th>1</th>\n",
       "      <td>2004-04-05</td>\n",
       "      <td>1</td>\n",
       "      <td>2004</td>\n",
       "      <td>4</td>\n",
       "      <td>5</td>\n",
       "      <td>abril</td>\n",
       "      <td>lunes</td>\n",
       "      <td>2004-04</td>\n",
       "      <td>15</td>\n",
       "    </tr>\n",
       "    <tr>\n",
       "      <th>2</th>\n",
       "      <td>2004-05-10</td>\n",
       "      <td>2</td>\n",
       "      <td>2004</td>\n",
       "      <td>5</td>\n",
       "      <td>10</td>\n",
       "      <td>mayo</td>\n",
       "      <td>lunes</td>\n",
       "      <td>2004-05</td>\n",
       "      <td>20</td>\n",
       "    </tr>\n",
       "    <tr>\n",
       "      <th>3</th>\n",
       "      <td>2004-06-15</td>\n",
       "      <td>3</td>\n",
       "      <td>2004</td>\n",
       "      <td>6</td>\n",
       "      <td>15</td>\n",
       "      <td>junio</td>\n",
       "      <td>martes</td>\n",
       "      <td>2004-06</td>\n",
       "      <td>25</td>\n",
       "    </tr>\n",
       "    <tr>\n",
       "      <th>4</th>\n",
       "      <td>2004-07-15</td>\n",
       "      <td>4</td>\n",
       "      <td>2004</td>\n",
       "      <td>7</td>\n",
       "      <td>15</td>\n",
       "      <td>julio</td>\n",
       "      <td>jueves</td>\n",
       "      <td>2004-07</td>\n",
       "      <td>29</td>\n",
       "    </tr>\n",
       "  </tbody>\n",
       "</table>\n",
       "</div>"
      ],
      "text/plain": [
       "       fecha  id  anio   mes   dia nombre_mes dia_semana anio_mes  semana_anio\n",
       "0        NaT  -1  <NA>  <NA>  <NA>        NaN        NaN      NaN         <NA>\n",
       "1 2004-04-05   1  2004     4     5      abril      lunes  2004-04           15\n",
       "2 2004-05-10   2  2004     5    10       mayo      lunes  2004-05           20\n",
       "3 2004-06-15   3  2004     6    15      junio     martes  2004-06           25\n",
       "4 2004-07-15   4  2004     7    15      julio     jueves  2004-07           29"
      ]
     },
     "execution_count": 20,
     "metadata": {},
     "output_type": "execute_result"
    }
   ],
   "source": [
    "tiempo.head()"
   ]
  },
  {
   "cell_type": "code",
   "execution_count": 23,
   "id": "e41aeee3",
   "metadata": {},
   "outputs": [],
   "source": [
    "carpeta_destino = ruta_base / 'Ejercicio2' / 'data' / 'processed'\n",
    "\n",
    "tiempo.to_csv(carpeta_destino / 'tiempo.csv', index=False)"
   ]
  },
  {
   "cell_type": "code",
   "execution_count": null,
   "id": "c6e2b48f",
   "metadata": {},
   "outputs": [],
   "source": []
  }
 ],
 "metadata": {
  "kernelspec": {
   "display_name": "Python 3",
   "language": "python",
   "name": "python3"
  },
  "language_info": {
   "codemirror_mode": {
    "name": "ipython",
    "version": 3
   },
   "file_extension": ".py",
   "mimetype": "text/x-python",
   "name": "python",
   "nbconvert_exporter": "python",
   "pygments_lexer": "ipython3",
   "version": "3.12.5"
  }
 },
 "nbformat": 4,
 "nbformat_minor": 5
}
